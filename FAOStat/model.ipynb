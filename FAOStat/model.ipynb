{
 "cells": [
  {
   "cell_type": "markdown",
   "source": [
    "---\n",
    "# Train a Neural Network on FAOStat data\n",
    "---"
   ],
   "metadata": {
    "collapsed": false
   },
   "id": "299b5a122f80569f"
  },
  {
   "cell_type": "code",
   "outputs": [],
   "source": [
    "import matplotlib.pyplot as plt\n",
    "import numpy as np\n",
    "import pandas as pd\n",
    "import torch\n",
    "from tqdm import tqdm\n",
    "import xarray as xr\n",
    "\n",
    "import _nn as base"
   ],
   "metadata": {
    "collapsed": false,
    "ExecuteTime": {
     "end_time": "2024-04-24T11:04:16.094825Z",
     "start_time": "2024-04-24T11:04:16.032734Z"
    }
   },
   "id": "103769a29335e2da",
   "execution_count": 29
  },
  {
   "cell_type": "markdown",
   "source": [
    "## 1. Load the training data\n",
    "\n",
    "Specify the name of the training set to use. Datasets are located in `data/IOT/FAOStat/Datasets`"
   ],
   "metadata": {
    "collapsed": false
   },
   "id": "e5be7185dd481e6e"
  },
  {
   "cell_type": "code",
   "outputs": [],
   "source": [
    "DSET = \"Soya_beans_pooled_0.99_2000-2022\""
   ],
   "metadata": {
    "collapsed": false,
    "ExecuteTime": {
     "end_time": "2024-04-24T11:04:16.112811Z",
     "start_time": "2024-04-24T11:04:16.097737Z"
    }
   },
   "id": "d567a78ee3e7779d",
   "execution_count": 30
  },
  {
   "cell_type": "markdown",
   "source": [
    "Load the FAO data, converting country names to their ISO codes (makes selecting and plotting easier)"
   ],
   "metadata": {
    "collapsed": false
   },
   "id": "fda005cfcf0a0f1b"
  },
  {
   "cell_type": "code",
   "execution_count": 31,
   "id": "initial_id",
   "metadata": {
    "collapsed": true,
    "ExecuteTime": {
     "end_time": "2024-04-24T11:04:16.179877Z",
     "start_time": "2024-04-24T11:04:16.102008Z"
    }
   },
   "outputs": [],
   "source": [
    "# Load the lookup table, containing coordinates and ISO codes\n",
    "lookup_table = pd.read_csv(\"lookup_table.csv\", index_col=0)\n",
    "\n",
    "# Load in the FAOStat data\n",
    "FAO_data = xr.open_dataarray(f\"Datasets/{DSET}.nc\")\n",
    "\n",
    "# Convert the country names to an ISO3 code for easier labelling and selection\n",
    "FAO_data = FAO_data.assign_coords({\n",
    "    \"Source\": [lookup_table.loc[c, 'Alpha-3 code'] if c != 'Other' else 'Other' for c in FAO_data.coords[\"Source\"].data],\n",
    "    \"Destination\": [lookup_table.loc[c, 'Alpha-3 code'] if c != 'Other' else 'Other' for c in FAO_data.coords[\"Destination\"].data]})"
   ]
  },
  {
   "cell_type": "markdown",
   "source": [
    "Use the quantity as the training data. Reshape the `Year` and `Reporter` dimensions into a single `idx` dimension, drop, and transform into a `torch.Tensor`"
   ],
   "metadata": {
    "collapsed": false
   },
   "id": "3e532bcb474a1fd5"
  },
  {
   "cell_type": "code",
   "outputs": [],
   "source": [
    "training_data = torch.from_numpy(\n",
    "    FAO_data.sel({\"Element\": \"Quantity, t\"}).stack({'idx': ['Year', 'Reporter']}).drop_vars(['Year', 'Reporter']).transpose('idx', ...).data\n",
    ").float()\n",
    "\n",
    "M, N = training_data.shape[1:]\n",
    "\n",
    "# Calculate the marginals\n",
    "mu, nu = torch.nansum(training_data, dim=-1, keepdim=True), torch.nansum(training_data, dim=1, keepdim=True)"
   ],
   "metadata": {
    "collapsed": false,
    "ExecuteTime": {
     "end_time": "2024-04-24T11:04:16.180250Z",
     "start_time": "2024-04-24T11:04:16.120924Z"
    }
   },
   "id": "a7ac976859c9a70d",
   "execution_count": 32
  },
  {
   "cell_type": "markdown",
   "source": [
    "Get the mask for each training dset: edges with 0 transport flow (due to missing values) to do not contribute to the loss function"
   ],
   "metadata": {
    "collapsed": false
   },
   "id": "d920abf00894ac13"
  },
  {
   "cell_type": "code",
   "outputs": [],
   "source": [
    "mask = training_data > 0"
   ],
   "metadata": {
    "collapsed": false,
    "ExecuteTime": {
     "end_time": "2024-04-24T11:04:16.197070Z",
     "start_time": "2024-04-24T11:04:16.173138Z"
    }
   },
   "id": "2d70347b7e010fa3",
   "execution_count": 33
  },
  {
   "cell_type": "code",
   "outputs": [
    {
     "data": {
      "text/plain": "torch.Size([46, 39, 74])"
     },
     "execution_count": 34,
     "metadata": {},
     "output_type": "execute_result"
    }
   ],
   "source": [
    "training_data.shape"
   ],
   "metadata": {
    "collapsed": false,
    "ExecuteTime": {
     "end_time": "2024-04-24T11:04:16.198006Z",
     "start_time": "2024-04-24T11:04:16.173691Z"
    }
   },
   "id": "4ad81f8d2bebe68b",
   "execution_count": 34
  },
  {
   "cell_type": "markdown",
   "source": [
    "## 2. Initialise the Neural Network\n",
    "\n",
    "Specify the architecture and activation functions of the neural network"
   ],
   "metadata": {
    "collapsed": false
   },
   "id": "d31f9eab9e4312fa"
  },
  {
   "cell_type": "code",
   "outputs": [],
   "source": [
    "NN = base.NeuralNet(\n",
    "    input_size=M * N,\n",
    "    output_size=M * N,\n",
    "    num_layers=5,\n",
    "    nodes_per_layer=dict(default=60),\n",
    "    activation_funcs=dict(default='tanh', layer_specific={-1: 'sigmoid'}),\n",
    "    biases=dict(default=None),\n",
    "    optimizer='Adam',\n",
    "    learning_rate=0.002\n",
    ")\n",
    "loss_ts = []"
   ],
   "metadata": {
    "collapsed": false,
    "ExecuteTime": {
     "end_time": "2024-04-24T11:04:16.198530Z",
     "start_time": "2024-04-24T11:04:16.173817Z"
    }
   },
   "id": "cc13244783c1e2c4",
   "execution_count": 35
  },
  {
   "cell_type": "markdown",
   "source": [
    "## 3. Train"
   ],
   "metadata": {
    "collapsed": false
   },
   "id": "7636b1abc91dd1c"
  },
  {
   "cell_type": "code",
   "outputs": [
    {
     "name": "stderr",
     "output_type": "stream",
     "text": [
      "Current mean error: 1210.91: 100%|██████████| 4000/4000 [17:06<00:00,  3.90it/s]\n"
     ]
    }
   ],
   "source": [
    "# Train\n",
    "num_epochs = 4000\n",
    "batch_size = 23\n",
    "\n",
    "# Kwargs for the Sinkhorn algorithm\n",
    "sinkhorn_kwargs = dict(max_iter=100, tolerance=1e-5, epsilon = 0.15)\n",
    "\n",
    "# Train\n",
    "for it in (pbar := tqdm(range(num_epochs))):\n",
    "    \n",
    "    epoch_loss = []\n",
    "    epoch_accuracy = []\n",
    "    loss = torch.tensor(0.0, requires_grad=True)\n",
    "    for j, dset in enumerate(training_data):\n",
    "\n",
    "        # Make a prediction\n",
    "        _C_pred = NN(dset.reshape(M * N, )).reshape(M, N)\n",
    "        \n",
    "        # Get the marginals from the predicted cost matrix\n",
    "        m, n = base.Sinkhorn(\n",
    "            mu[j],\n",
    "            nu[j],\n",
    "            _C_pred,\n",
    "            **sinkhorn_kwargs,\n",
    "        )\n",
    "\n",
    "        _, _, _T_pred = base.marginals_and_transport_plan(m, n, _C_pred, epsilon=sinkhorn_kwargs[\"epsilon\"])\n",
    "        \n",
    "        # Training loss = L2 loss on non-zero edges\n",
    "        training_loss = torch.nn.functional.mse_loss(_T_pred[mask[j]], dset[mask[j]])\n",
    "        \n",
    "        # Constrain the cost matrix to have column sum = 1\n",
    "        loss = loss +  training_loss + torch.nn.functional.mse_loss(_C_pred.sum(dim=1, keepdim=False), torch.ones(M))\n",
    "        \n",
    "        # Perform a gradient descent step every B iterations\n",
    "        if j % batch_size == 0 or j == training_data.shape[0] - 1:\n",
    "            loss.backward()\n",
    "            NN.optimizer.step()\n",
    "            NN.optimizer.zero_grad()\n",
    "            loss = torch.tensor(0.0, requires_grad=True)\n",
    "        \n",
    "        # Track the accuracy\n",
    "        epoch_loss.append(torch.mean(abs(_T_pred.detach()[mask[j]] - dset[mask[j]])/ dset[mask[j]]))\n",
    "    \n",
    "    loss_ts.append(np.mean(epoch_loss).item())\n",
    "    pbar.set_description(f\"Current mean error: {np.round(loss_ts[-1], 2)}\")"
   ],
   "metadata": {
    "collapsed": false,
    "ExecuteTime": {
     "end_time": "2024-04-24T11:21:22.997549Z",
     "start_time": "2024-04-24T11:04:16.174747Z"
    }
   },
   "id": "57663014b5df887",
   "execution_count": 36
  },
  {
   "cell_type": "markdown",
   "source": [
    "Plot the training loss"
   ],
   "metadata": {
    "collapsed": false
   },
   "id": "de4fb39eb8f35b00"
  },
  {
   "cell_type": "code",
   "outputs": [
    {
     "data": {
      "text/plain": "<Figure size 640x480 with 1 Axes>",
      "image/png": "[encoded data removed]"
     },
     "metadata": {},
     "output_type": "display_data"
    }
   ],
   "source": [
    "fig, ax = plt.subplots()\n",
    "ax.plot(np.arange(len(loss_ts)), np.array(loss_ts))\n",
    "ax.set_ylabel(\"Average error\")\n",
    "ax.set_xlabel(\"Epoch\")\n",
    "ax.grid()\n",
    "ax.set_yscale('log');"
   ],
   "metadata": {
    "collapsed": false,
    "ExecuteTime": {
     "end_time": "2024-04-24T11:21:23.168592Z",
     "start_time": "2024-04-24T11:21:22.994143Z"
    }
   },
   "id": "d2abad8d367df629",
   "execution_count": 37
  },
  {
   "cell_type": "markdown",
   "source": [
    "Plot an example prediction on the training data"
   ],
   "metadata": {
    "collapsed": false
   },
   "id": "f5dc7bd3b279fd1d"
  },
  {
   "cell_type": "code",
   "outputs": [
    {
     "data": {
      "text/plain": "<Figure size 2000x1000 with 2 Axes>",
      "image/png": "[encoded data removed]"
     },
     "metadata": {},
     "output_type": "display_data"
    }
   ],
   "source": [
    "idx = np.random.choice(len(training_data), 1)[0]\n",
    "example_dset = training_data[idx]\n",
    "_C_pred = NN(example_dset.reshape(M * N, )).reshape(M, N).detach()\n",
    "\n",
    "# Get the marginals from the predicted cost matrix\n",
    "m, n = base.Sinkhorn(\n",
    "    mu[idx],\n",
    "    nu[idx],\n",
    "    _C_pred,\n",
    "    **sinkhorn_kwargs,\n",
    ")\n",
    "\n",
    "_, _, _T_pred = base.marginals_and_transport_plan(m, n, _C_pred, epsilon=sinkhorn_kwargs[\"epsilon\"])\n",
    "\n",
    "\n",
    "fig, axs = plt.subplots(ncols=2, figsize=(20, 10))\n",
    "for ax in axs:\n",
    "    ax.set_xticks([])\n",
    "    ax.set_yticks([])\n",
    "axs[0].imshow(np.ma.masked_where(example_dset == 0, example_dset / 1e6), vmin=0, vmax=example_dset.max(), norm='log')\n",
    "axs[0].set_title(\"True transport plan\")\n",
    "axs[1].imshow(np.ma.masked_where(example_dset == 0, _T_pred / 1e6), vmin=0, vmax=example_dset.max(), norm='log')\n",
    "axs[1].set_title(\"Prediction\");"
   ],
   "metadata": {
    "collapsed": false,
    "ExecuteTime": {
     "end_time": "2024-04-24T11:21:23.294880Z",
     "start_time": "2024-04-24T11:21:23.166992Z"
    }
   },
   "id": "202c97ddc05c7f4b",
   "execution_count": 38
  },
  {
   "cell_type": "markdown",
   "source": [
    "Plot two example cost matrices"
   ],
   "metadata": {
    "collapsed": false
   },
   "id": "f22ab15acec2251d"
  },
  {
   "cell_type": "code",
   "outputs": [
    {
     "data": {
      "text/plain": "<Figure size 2000x1000 with 2 Axes>",
      "image/png": "[encoded data removed]"
     },
     "metadata": {},
     "output_type": "display_data"
    }
   ],
   "source": [
    "_C_pred_1 = NN(training_data[np.random.choice(len(training_data), 1)[0]].reshape(M * N, )).reshape(M, N).detach()\n",
    "_C_pred_2 = NN(training_data[np.random.choice(len(training_data), 1)[0]].reshape(M * N, )).reshape(M, N).detach()\n",
    "\n",
    "fig, axs = plt.subplots(ncols=2, nrows=1, figsize=(20, 10))\n",
    "\n",
    "for ax in axs:\n",
    "    ax.set_xticks([])\n",
    "    ax.set_yticks([])\n",
    "    \n",
    "axs[0].imshow(_C_pred_1, vmin=0, vmax=1)\n",
    "axs[1].imshow(_C_pred_2, vmin=0, vmax=1);"
   ],
   "metadata": {
    "collapsed": false,
    "ExecuteTime": {
     "end_time": "2024-04-24T11:21:23.382540Z",
     "start_time": "2024-04-24T11:21:23.291708Z"
    }
   },
   "id": "9fd8edb58d6adb4c",
   "execution_count": 39
  },
  {
   "cell_type": "markdown",
   "source": [
    "## 4. Sample\n",
    "\n",
    "Now generate predictions on the FAOStat data by randomly picking one of the reporter values for each Year, where available. Generating 1000 samples for each of the 20 years takes about 15 minutes."
   ],
   "metadata": {
    "collapsed": false
   },
   "id": "58f8478dcfdca3e8"
  },
  {
   "cell_type": "code",
   "outputs": [
    {
     "name": "stderr",
     "output_type": "stream",
     "text": [
      "Sampling: 100%|██████████| 1000/1000 [06:40<00:00,  2.50it/s]\n"
     ]
    }
   ],
   "source": [
    "# Number of samples for each year\n",
    "N_samples = 1000\n",
    "\n",
    "# xr.Dataset containing the data\n",
    "_empty = np.zeros((N_samples, len(FAO_data.coords['Year'].data), M, N))\n",
    "samples = xr.Dataset(\n",
    "    data_vars=dict(\n",
    "        C=([\"Sample\", \"Year\", \"Source\", \"Destination\"], np.zeros_like(_empty)), \n",
    "        T=([\"Sample\", \"Year\", \"Source\", \"Destination\"], np.zeros_like(_empty)),\n",
    "        T_pred=([\"Sample\", \"Year\", \"Source\", \"Destination\"], np.zeros_like(_empty))\n",
    "    ), \n",
    "    coords={\"Sample\": np.arange(N_samples), \n",
    "            \"Year\": FAO_data.coords[\"Year\"].data, \n",
    "            \"Source\": FAO_data.coords[\"Source\"].data, \n",
    "            \"Destination\": FAO_data.coords[\"Destination\"].data}\n",
    ")\n",
    "\n",
    "for j in tqdm(range(N_samples), desc=\"Sampling\"):\n",
    "\n",
    "    for year in FAO_data.coords['Year'].data:\n",
    "\n",
    "        # Pick random entries along the 'Reporter' axis and fill NaN values\n",
    "        _dset = torch.from_numpy(\n",
    "            np.apply_along_axis(np.random.choice, 0, FAO_data.sel({\"Element\": \"Quantity, t\", \"Year\": year}).data)\n",
    "        ).float()\n",
    "        \n",
    "        _C_pred = NN(_dset.reshape(M * N, )).reshape(M, N).detach()\n",
    "                \n",
    "        # Get the marginals from the predicted cost matrix\n",
    "        m, n = base.Sinkhorn(\n",
    "            _dset.sum(dim=1, keepdim=True),\n",
    "            _dset.sum(dim=0, keepdim=True),\n",
    "            _C_pred,\n",
    "            **sinkhorn_kwargs,\n",
    "        )\n",
    "\n",
    "        _, _, _T_pred = base.marginals_and_transport_plan(m, n, _C_pred, epsilon=sinkhorn_kwargs[\"epsilon\"])\n",
    "     \n",
    "        _dset[_dset == 0] = torch.nan\n",
    "        _C_pred[_dset == 0] = torch.inf\n",
    "\n",
    "        samples[\"C\"].loc[{\"Year\": year, \"Sample\": j}] = _C_pred\n",
    "        samples[\"T\"].loc[{\"Year\": year, \"Sample\": j}] = _dset\n",
    "        samples[\"T_pred\"].loc[{\"Year\": year, \"Sample\": j}] = _T_pred"
   ],
   "metadata": {
    "collapsed": false,
    "ExecuteTime": {
     "end_time": "2024-04-24T11:28:04.338499Z",
     "start_time": "2024-04-24T11:21:23.385187Z"
    }
   },
   "id": "7334c22acb43e628",
   "execution_count": 40
  },
  {
   "cell_type": "markdown",
   "source": [
    "## 5. Save the results"
   ],
   "metadata": {
    "collapsed": false
   },
   "id": "e56829182f5e6c4d"
  },
  {
   "cell_type": "code",
   "outputs": [
    {
     "name": "stderr",
     "output_type": "stream",
     "text": [
      "/Users/thomasgaskin/inverse-optimal-transport/.venv/lib/python3.11/site-packages/numpy/lib/nanfunctions.py:1879: RuntimeWarning: Degrees of freedom <= 0 for slice.\n",
      "  var = nanvar(a, axis=axis, dtype=dtype, out=out, ddof=ddof,\n"
     ]
    }
   ],
   "source": [
    "# Save the sample statistics\n",
    "xr.Dataset(dict(mean=samples.to_array().mean(\"Sample\"), std=samples.to_array().std(\"Sample\"))).to_netcdf(f\"Samples/{DSET}_samples_stats.nc\")"
   ],
   "metadata": {
    "collapsed": false,
    "ExecuteTime": {
     "end_time": "2024-04-24T11:32:46.382567Z",
     "start_time": "2024-04-24T11:32:42.976905Z"
    }
   },
   "id": "3f4a24032e0c1c43",
   "execution_count": 43
  },
  {
   "cell_type": "code",
   "outputs": [],
   "source": [
    "# Save the trained NN\n",
    "# torch.save(NN.state_dict(), \"/Users/thomasgaskin/FAOSTAT_data/Bananas/trained_NN.pt\")\n",
    "# NN2 = base.NeuralNet(\n",
    "#     input_size=M * N,\n",
    "#     output_size=M * N,\n",
    "#     num_layers=5,\n",
    "#     nodes_per_layer=dict(default=60),\n",
    "#     activation_funcs=dict(default='tanh', layer_specific={-1: 'sigmoid'}),\n",
    "#     biases=dict(default=None),\n",
    "#     optimizer='Adam',\n",
    "#     learning_rate=0.002\n",
    "# )\n",
    "# NN2.load_state_dict(torch.load(\"/Users/thomasgaskin/FAOSTAT_data/Bananas/trained_NN.pt\"))"
   ],
   "metadata": {
    "collapsed": false,
    "ExecuteTime": {
     "end_time": "2024-04-24T11:28:05.608755Z",
     "start_time": "2024-04-24T11:28:05.606821Z"
    }
   },
   "id": "a51090fbe7d5c6e2",
   "execution_count": 42
  }
 ],
 "metadata": {
  "kernelspec": {
   "name": ".venv",
   "language": "python",
   "display_name": ".venv"
  },
  "language_info": {
   "codemirror_mode": {
    "name": "ipython",
    "version": 2
   },
   "file_extension": ".py",
   "mimetype": "text/x-python",
   "name": "python",
   "nbconvert_exporter": "python",
   "pygments_lexer": "ipython2",
   "version": "2.7.6"
  }
 },
 "nbformat": 4,
 "nbformat_minor": 5
}
