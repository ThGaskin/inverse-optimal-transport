{
 "cells": [
  {
   "cell_type": "code",
   "execution_count": 1,
   "id": "46d75ff5",
   "metadata": {},
   "outputs": [],
   "source": [
    "import numpy as np\n",
    "import jax\n",
    "from jax.config import config\n",
    "config.update(\"jax_enable_x64\", True)\n",
    "\n",
    "import jax.random \n",
    "import jax.lax as lax\n",
    "\n",
    "#config.update(\"jax_debug_nans\", True)\n",
    "\n",
    "from jax import grad, jit, vmap\n",
    "import jax.numpy as jnp\n",
    "import matplotlib.pyplot as plt\n",
    "\n",
    "from matplotlib import style\n",
    "style.use('dark_background')\n",
    "import seaborn as sns\n",
    "\n",
    "\n",
    "#from sklearn.metrics import pairwise_distances\n",
    "import os"
   ]
  },
  {
   "cell_type": "code",
   "execution_count": 2,
   "id": "b432f9a2",
   "metadata": {},
   "outputs": [
    {
     "name": "stderr",
     "output_type": "stream",
     "text": [
      "/Users/aduncan/opt/anaconda3/envs/iot/lib/python3.10/site-packages/flax/struct.py:132: FutureWarning: jax.tree_util.register_keypaths is deprecated, and will be removed in a future release. Please use `register_pytree_with_keys()` instead.\n",
      "  jax.tree_util.register_keypaths(data_clz, keypaths)\n",
      "/Users/aduncan/opt/anaconda3/envs/iot/lib/python3.10/site-packages/flax/struct.py:132: FutureWarning: jax.tree_util.register_keypaths is deprecated, and will be removed in a future release. Please use `register_pytree_with_keys()` instead.\n",
      "  jax.tree_util.register_keypaths(data_clz, keypaths)\n"
     ]
    }
   ],
   "source": [
    "import jax\n",
    "import jax.numpy as jnp\n",
    "\n",
    "import matplotlib.pyplot as plt\n",
    "from IPython import display\n",
    "\n",
    "import ott\n",
    "from ott.geometry import costs, pointcloud\n",
    "from ott.problems.linear import linear_problem\n",
    "from ott.solvers.linear import sinkhorn"
   ]
  },
  {
   "cell_type": "code",
   "execution_count": 3,
   "id": "bafaac16",
   "metadata": {},
   "outputs": [],
   "source": [
    "import numpyro\n",
    "#numpyro.set_host_device_count(4)\n",
    "import numpyro.distributions as dist\n",
    "from numpyro.distributions import (\n",
    "    Categorical,\n",
    "    Multinomial,\n",
    "    Dirichlet,\n",
    "    Normal,\n",
    "    Uniform,\n",
    "    Exponential,\n",
    "    LogNormal,\n",
    "    TruncatedNormal\n",
    " )\n",
    "from numpyro.infer import MCMC, NUTS, Predictive, BarkerMH, SA\n"
   ]
  },
  {
   "cell_type": "code",
   "execution_count": 20,
   "id": "bb19002d",
   "metadata": {},
   "outputs": [],
   "source": [
    "rng = jax.random.PRNGKey(0)\n",
    "keys = jax.random.split(rng, 5)\n",
    "\n",
    "N, M = 5,5"
   ]
  },
  {
   "cell_type": "code",
   "execution_count": 29,
   "id": "e98f6764",
   "metadata": {},
   "outputs": [
    {
     "name": "stdout",
     "output_type": "stream",
     "text": [
      "mu  [0.17111642 0.1938811  0.08688396 0.44707095 0.10104758]\n",
      "nu  [0.4455814  0.34930909 0.15023578 0.00728408 0.04758965]\n"
     ]
    }
   ],
   "source": [
    "a = jnp.ones((N,))/N\n",
    "\n",
    "b = jnp.arange(1,M+1)**2\n",
    "b = b/jnp.sum(b)\n",
    "\n",
    "a = jax.random.uniform(keys[0], (N,1))\n",
    "b = jax.random.uniform(keys[1], (M,1))\n",
    "a = a.ravel() / jnp.sum(a)\n",
    "b = b.ravel() / jnp.sum(b)\n",
    "print('mu ', a)\n",
    "print('nu ', b)\n",
    "eps = 1.0\n",
    "index = 2"
   ]
  },
  {
   "cell_type": "code",
   "execution_count": 30,
   "id": "4df6fc6e",
   "metadata": {},
   "outputs": [],
   "source": [
    "def generate_data(N, M, a, b, eps):\n",
    "    \n",
    "    K1 = np.zeros(shape=(M,N))\n",
    "         \n",
    "    for i in jnp.arange(0,N):\n",
    "        c_truth = np.random.dirichlet(np.ones(M))\n",
    "        K1[:,i] = c_truth\n",
    "    \n",
    "    C_truth = jnp.array(-eps * np.log(K1))\n",
    " \n",
    "    geom = ott.geometry.geometry.Geometry(cost_matrix=C_truth, epsilon=eps)\n",
    "    prob = linear_problem.LinearProblem(geom, a=a, b=b)\n",
    "    solver = sinkhorn.Sinkhorn(inner_iterations=100, max_iterations=10000, jit=True)\n",
    "    out = solver(prob)\n",
    "    print(\n",
    "    \" Sinkhorn has converged: \",\n",
    "    out.converged,\n",
    "    \"\\n\",\n",
    "    \"Error upon last iteration: \",\n",
    "    out.errors[(out.errors > -1)][-1],\n",
    "    \"\\n\",\n",
    "    \"Sinkhorn required \",\n",
    "    jnp.sum(out.errors > -1),\n",
    "    \" iterations to converge. \\n\",\n",
    "    \"Entropy regularized OT cost: \",\n",
    "    out.reg_ot_cost,\n",
    "    \"\\n\",\n",
    "    \"OT cost (without entropy): \",\n",
    "    jnp.sum(out.matrix * out.geom.cost_matrix),\n",
    "    )\n",
    "    T = geom.transport_from_potentials(out.f, out.g)\n",
    "    print('OT map:', T)\n",
    "    return T, C_truth\n"
   ]
  },
  {
   "cell_type": "code",
   "execution_count": 31,
   "id": "78753240",
   "metadata": {},
   "outputs": [],
   "source": [
    "def calcK(T, v, index):\n",
    "    D = jnp.diag(jnp.divide(v,T[:,index]))\n",
    "    K = jnp.dot(D,T)\n",
    "    sumK = jnp.sum(K,axis=0, keepdims=True)\n",
    "    return K/sumK"
   ]
  },
  {
   "cell_type": "code",
   "execution_count": 32,
   "id": "889aac27",
   "metadata": {},
   "outputs": [],
   "source": [
    "def solveOT(K, a, b, eps):\n",
    "    C = jnp.array(-eps * jnp.log(K))\n",
    "    geom = ott.geometry.geometry.Geometry(cost_matrix=C, epsilon = eps)\n",
    "    prob = linear_problem.LinearProblem(geom, a=a, b=b)\n",
    "    solver = sinkhorn.Sinkhorn(inner_iterations=100, max_iterations=10000, jit=True)\n",
    "    out = solver(prob)\n",
    "    T = geom.transport_from_potentials(out.f, out.g)\n",
    "    return T"
   ]
  },
  {
   "cell_type": "code",
   "execution_count": 33,
   "id": "045916c5",
   "metadata": {},
   "outputs": [],
   "source": [
    "def model(N, M, eps, data):\n",
    "\n",
    "    cvec = numpyro.sample(\"K\", Dirichlet(jnp.ones(N)))\n",
    "    K = calcK(data, cvec, index)\n",
    "    T = solveOT(K, a, b, eps)\n",
    " "
   ]
  },
  {
   "cell_type": "code",
   "execution_count": 34,
   "id": "ba2b927c",
   "metadata": {},
   "outputs": [
    {
     "name": "stdout",
     "output_type": "stream",
     "text": [
      " Sinkhorn has converged:  True \n",
      " Error upon last iteration:  9.107298248878237e-17 \n",
      " Sinkhorn required  1  iterations to converge. \n",
      " Entropy regularized OT cost:  1.6954355069592975 \n",
      " OT cost (without entropy):  1.406609029903958\n",
      "OT map: [[1.87842479e-02 1.45485984e-01 4.15472499e-03 2.23775968e-03\n",
      "  4.53698836e-04]\n",
      " [5.43922915e-02 7.19855701e-03 9.73203311e-02 3.96480594e-03\n",
      "  3.10051144e-02]\n",
      " [1.68763298e-02 5.40227367e-02 9.61560700e-03 2.46216574e-05\n",
      "  6.34466213e-03]\n",
      " [3.02030487e-01 1.01117873e-01 3.50863765e-02 6.31620343e-04\n",
      "  8.20459488e-03]\n",
      " [5.34980458e-02 4.14839376e-02 4.05874349e-03 4.25274321e-04\n",
      "  1.58157533e-03]]\n"
     ]
    }
   ],
   "source": [
    "T_data, C_truth = generate_data(N, M, a, b, eps)\n",
    "K_truth = np.exp(-C_truth)\n"
   ]
  },
  {
   "cell_type": "code",
   "execution_count": 35,
   "id": "37ac7719",
   "metadata": {},
   "outputs": [
    {
     "name": "stderr",
     "output_type": "stream",
     "text": [
      "sample: 100%|█| 11000/11000 [00:06<00:00, 1617.19it/s, 7 steps of size 6.06e-01.\n"
     ]
    },
    {
     "name": "stdout",
     "output_type": "stream",
     "text": [
      "\n",
      "                mean       std    median      5.0%     95.0%     n_eff     r_hat\n",
      "      K[0]      0.20      0.16      0.16      0.00      0.43  11244.22      1.00\n",
      "      K[1]      0.20      0.16      0.16      0.00      0.44  11784.13      1.00\n",
      "      K[2]      0.20      0.17      0.16      0.00      0.45  11154.34      1.00\n",
      "      K[3]      0.20      0.16      0.16      0.00      0.43  10203.47      1.00\n",
      "      K[4]      0.20      0.16      0.16      0.00      0.44  10499.26      1.00\n",
      "\n",
      "Number of divergences: 0\n"
     ]
    }
   ],
   "source": [
    "mcmc = MCMC(\n",
    "        NUTS(model, dense_mass=True),\n",
    "        num_warmup=1000,\n",
    "        num_samples=10000,\n",
    "        num_chains=1,\n",
    "        progress_bar=False if \"NUMPYRO_SPHINXBUILD\" in os.environ else True,\n",
    ")\n",
    "\n",
    "\n",
    "mcmc.run(rng, N=N, M =M, eps=eps, data=T_data)\n",
    "mcmc.print_summary()\n"
   ]
  },
  {
   "cell_type": "code",
   "execution_count": 36,
   "id": "d3604d60",
   "metadata": {},
   "outputs": [
    {
     "name": "stdout",
     "output_type": "stream",
     "text": [
      "Exact transport plan:  [[1.87842479e-02 1.45485984e-01 4.15472499e-03 2.23775968e-03\n",
      "  4.53698836e-04]\n",
      " [5.43922915e-02 7.19855701e-03 9.73203311e-02 3.96480594e-03\n",
      "  3.10051144e-02]\n",
      " [1.68763298e-02 5.40227367e-02 9.61560700e-03 2.46216574e-05\n",
      "  6.34466213e-03]\n",
      " [3.02030487e-01 1.01117873e-01 3.50863765e-02 6.31620343e-04\n",
      "  8.20459488e-03]\n",
      " [5.34980458e-02 4.14839376e-02 4.05874349e-03 4.25274321e-04\n",
      "  1.58157533e-03]]\n",
      "Posterior transport plan:  [[1.87842479e-02 1.45485984e-01 4.15472499e-03 2.23775968e-03\n",
      "  4.53698836e-04]\n",
      " [5.43922915e-02 7.19855701e-03 9.73203311e-02 3.96480594e-03\n",
      "  3.10051144e-02]\n",
      " [1.68763298e-02 5.40227367e-02 9.61560700e-03 2.46216574e-05\n",
      "  6.34466213e-03]\n",
      " [3.02030487e-01 1.01117873e-01 3.50863765e-02 6.31620343e-04\n",
      "  8.20459488e-03]\n",
      " [5.34980458e-02 4.14839376e-02 4.05874349e-03 4.25274321e-04\n",
      "  1.58157533e-03]]\n"
     ]
    }
   ],
   "source": [
    "sample = mcmc.get_samples()\n",
    "Kmean = jnp.mean(sample['K'], axis=0)\n",
    "K = calcK(T_data, Kmean, index)\n",
    "T = solveOT(K, a, b, eps)\n",
    "print('Exact transport plan: ', T_data)\n",
    "print('Posterior transport plan: ', T)"
   ]
  },
  {
   "cell_type": "code",
   "execution_count": 37,
   "id": "87f36e4e",
   "metadata": {},
   "outputs": [
    {
     "name": "stdout",
     "output_type": "stream",
     "text": [
      "(10000, 5)\n"
     ]
    },
    {
     "data": {
      "text/plain": [
       "[<matplotlib.lines.Line2D at 0x7fa40456beb0>]"
      ]
     },
     "execution_count": 37,
     "metadata": {},
     "output_type": "execute_result"
    },
    {
     "data": {
      "image/png": "[encoded data removed]",
      "text/plain": [
       "<Figure size 640x480 with 1 Axes>"
      ]
     },
     "metadata": {},
     "output_type": "display_data"
    }
   ],
   "source": [
    "Kvec_post = sample['K']\n",
    "print(Kvec_post.shape)\n",
    "sns.violinplot(data=Kvec_post)\n",
    "plt.plot(range(Kvec_post.shape[1]), K_truth[:,index], 'o', color='red')"
   ]
  },
  {
   "cell_type": "code",
   "execution_count": 197,
   "id": "f24e6378",
   "metadata": {},
   "outputs": [],
   "source": [
    "K1 = jnp.array([[0.1, 0.1, 0.25], [0.5, 0.8, 0.35], [0.4, 0.1, 0.4]])\n",
    "T1 =  solveOT(K1, a, b, 0.1)\n",
    "T2 = solveOT(K1, a, b, 1)"
   ]
  },
  {
   "cell_type": "code",
   "execution_count": 200,
   "id": "1ac8f8d1",
   "metadata": {},
   "outputs": [
    {
     "name": "stdout",
     "output_type": "stream",
     "text": [
      "[0.07140662 0.28544244 0.64315094]\n"
     ]
    }
   ],
   "source": [
    "print(jnp.sum(T1, axis=0))"
   ]
  },
  {
   "cell_type": "code",
   "execution_count": 201,
   "id": "704575a8",
   "metadata": {},
   "outputs": [
    {
     "name": "stdout",
     "output_type": "stream",
     "text": [
      "[0.07142857 0.28571428 0.64285715]\n"
     ]
    }
   ],
   "source": []
  },
  {
   "cell_type": "code",
   "execution_count": null,
   "id": "ba8341ec",
   "metadata": {},
   "outputs": [],
   "source": []
  }
 ],
 "metadata": {
  "kernelspec": {
   "display_name": "Python 3 (ipykernel)",
   "language": "python",
   "name": "python3"
  },
  "language_info": {
   "codemirror_mode": {
    "name": "ipython",
    "version": 3
   },
   "file_extension": ".py",
   "mimetype": "text/x-python",
   "name": "python",
   "nbconvert_exporter": "python",
   "pygments_lexer": "ipython3",
   "version": "3.10.12"
  }
 },
 "nbformat": 4,
 "nbformat_minor": 5
}
